{
 "cells": [
  {
   "cell_type": "code",
   "execution_count": 7,
   "metadata": {},
   "outputs": [
    {
     "name": "stdout",
     "output_type": "stream",
     "text": [
      "[0, 3, 4, 4, 0, 3, 0, 0, 0, 0]\n",
      "[0, 1, 1, 5, 3, 0, 0, 0, 0, 0]\n",
      "[0, 1, 1, 5, 3, 0, 0, 0, 0, 0]\n",
      "[0, 1, 1, 5, 3, 0, 0, 0, 0, 0]\n",
      "[0, 1, 1, 5, 3, 0, 0, 0, 0, 0]\n",
      "[0, 0, 1, 5, 3, 0, 0, 0, 0, 0]\n",
      "[0, 0, 1, 5, 3, 0, 0, 0, 0, 0]\n",
      "[0, 0, 1, 5, 3, 0, 0, 0, 0, 0]\n",
      "[0, 0, 1, 5, 3, 0, 0, 0, 0, 0]\n"
     ]
    },
    {
     "ename": "TypeError",
     "evalue": "object of type 'NoneType' has no len()",
     "output_type": "error",
     "traceback": [
      "\u001b[1;31m---------------------------------------------------------------------------\u001b[0m",
      "\u001b[1;31mTypeError\u001b[0m                                 Traceback (most recent call last)",
      "\u001b[1;32m<ipython-input-7-d0e6ef2a3e65>\u001b[0m in \u001b[0;36m<module>\u001b[1;34m()\u001b[0m\n\u001b[0;32m    105\u001b[0m     \u001b[1;32mreturn\u001b[0m \u001b[0mscores\u001b[0m\u001b[1;33m[\u001b[0m\u001b[1;36m0\u001b[0m\u001b[1;33m]\u001b[0m\u001b[1;33m[\u001b[0m\u001b[1;36m1\u001b[0m\u001b[1;33m]\u001b[0m\u001b[1;33m\u001b[0m\u001b[0m\n\u001b[0;32m    106\u001b[0m \u001b[1;33m\u001b[0m\u001b[0m\n\u001b[1;32m--> 107\u001b[1;33m \u001b[0mgetneticoptimize\u001b[0m\u001b[1;33m(\u001b[0m\u001b[0mdomain\u001b[0m\u001b[1;33m,\u001b[0m \u001b[0mdormcost\u001b[0m\u001b[1;33m)\u001b[0m\u001b[1;33m\u001b[0m\u001b[0m\n\u001b[0m",
      "\u001b[1;32m<ipython-input-7-d0e6ef2a3e65>\u001b[0m in \u001b[0;36mgetneticoptimize\u001b[1;34m(domain, costf, popsize, step, mutprob, elite, maxtier)\u001b[0m\n\u001b[0;32m     81\u001b[0m     \u001b[1;31m#主循环\u001b[0m\u001b[1;33m\u001b[0m\u001b[1;33m\u001b[0m\u001b[0m\n\u001b[0;32m     82\u001b[0m     \u001b[1;32mfor\u001b[0m \u001b[0mi\u001b[0m \u001b[1;32min\u001b[0m \u001b[0mrange\u001b[0m\u001b[1;33m(\u001b[0m\u001b[0mmaxtier\u001b[0m\u001b[1;33m)\u001b[0m\u001b[1;33m:\u001b[0m\u001b[1;33m\u001b[0m\u001b[0m\n\u001b[1;32m---> 83\u001b[1;33m         \u001b[0mscores\u001b[0m \u001b[1;33m=\u001b[0m \u001b[1;33m[\u001b[0m\u001b[1;33m(\u001b[0m\u001b[0mv\u001b[0m\u001b[1;33m,\u001b[0m\u001b[0mcostf\u001b[0m\u001b[1;33m(\u001b[0m\u001b[0mv\u001b[0m\u001b[1;33m)\u001b[0m\u001b[1;33m)\u001b[0m\u001b[1;32mfor\u001b[0m \u001b[0mv\u001b[0m \u001b[1;32min\u001b[0m \u001b[0mpop\u001b[0m\u001b[1;33m]\u001b[0m\u001b[1;33m\u001b[0m\u001b[0m\n\u001b[0m\u001b[0;32m     84\u001b[0m         \u001b[0mscores\u001b[0m\u001b[1;33m.\u001b[0m\u001b[0msort\u001b[0m\u001b[1;33m(\u001b[0m\u001b[1;33m)\u001b[0m\u001b[1;33m\u001b[0m\u001b[0m\n\u001b[0;32m     85\u001b[0m         \u001b[0mranked\u001b[0m \u001b[1;33m=\u001b[0m \u001b[1;33m[\u001b[0m\u001b[0mv\u001b[0m \u001b[1;32mfor\u001b[0m \u001b[1;33m(\u001b[0m\u001b[0mv\u001b[0m\u001b[1;33m,\u001b[0m\u001b[0ms\u001b[0m\u001b[1;33m)\u001b[0m \u001b[1;32min\u001b[0m \u001b[0mscores\u001b[0m\u001b[1;33m]\u001b[0m\u001b[1;33m\u001b[0m\u001b[0m\n",
      "\u001b[1;32m<ipython-input-7-d0e6ef2a3e65>\u001b[0m in \u001b[0;36mdormcost\u001b[1;34m(vec)\u001b[0m\n\u001b[0;32m     42\u001b[0m \u001b[1;33m\u001b[0m\u001b[0m\n\u001b[0;32m     43\u001b[0m     \u001b[1;31m#遍历每一名学生\u001b[0m\u001b[1;33m\u001b[0m\u001b[1;33m\u001b[0m\u001b[0m\n\u001b[1;32m---> 44\u001b[1;33m     \u001b[1;32mfor\u001b[0m \u001b[0mi\u001b[0m \u001b[1;32min\u001b[0m \u001b[0mrange\u001b[0m\u001b[1;33m(\u001b[0m\u001b[0mlen\u001b[0m\u001b[1;33m(\u001b[0m\u001b[0mvec\u001b[0m\u001b[1;33m)\u001b[0m\u001b[1;33m)\u001b[0m\u001b[1;33m:\u001b[0m\u001b[1;33m\u001b[0m\u001b[0m\n\u001b[0m\u001b[0;32m     45\u001b[0m         \u001b[0mx\u001b[0m \u001b[1;33m=\u001b[0m \u001b[0mint\u001b[0m\u001b[1;33m(\u001b[0m\u001b[0mvec\u001b[0m\u001b[1;33m[\u001b[0m\u001b[0mi\u001b[0m\u001b[1;33m]\u001b[0m\u001b[1;33m)\u001b[0m\u001b[1;33m\u001b[0m\u001b[0m\n\u001b[0;32m     46\u001b[0m         \u001b[0mdorm\u001b[0m \u001b[1;33m=\u001b[0m \u001b[0mdorms\u001b[0m\u001b[1;33m[\u001b[0m\u001b[0mslots\u001b[0m\u001b[1;33m[\u001b[0m\u001b[0mx\u001b[0m\u001b[1;33m]\u001b[0m\u001b[1;33m]\u001b[0m\u001b[1;33m\u001b[0m\u001b[0m\n",
      "\u001b[1;31mTypeError\u001b[0m: object of type 'NoneType' has no len()"
     ]
    }
   ],
   "source": [
    "# -*- coding: utf-8 -*-\n",
    "import random\n",
    "import math\n",
    "\n",
    "#代表宿舍，每个宿舍有两个可用的隔间\n",
    "dorms = ['Zeus', 'Athena', 'Hercules', 'Bacchus', 'Pluto']\n",
    "\n",
    "#代表学生及其首选和次选\n",
    "prefs = [('Toby', ('Bacchus', 'Hercules')),\n",
    "         ('Steve', ('Zeus', 'Pluto')),\n",
    "         ('Andrea', ('Athena', 'Zeus')),\n",
    "         ('Sarah', ('Zeus', 'Pluto')),\n",
    "         ('Dave', ('Athena', 'Bacchus')),\n",
    "         ('Jeff', ('Hercules', 'Pluto')),\n",
    "         ('Fred', ('Pluto', 'Athena')),\n",
    "         ('Suzie', ('Bacchus', 'Hercules')),\n",
    "         ('Laura', ('Bacchus', 'Hercules')),\n",
    "         ('Neil', ('Hercules', 'Athena'))]\n",
    "\n",
    "domain = [(0, (len(dorms) * 2) - i-1)for i in range(0, len(dorms) * 2)]\n",
    "\n",
    "def printsolution(vec):\n",
    "    slots = []\n",
    "    #为每个宿舍建两个槽\n",
    "    for i in range(len(dorms)): slots += [i, i]\n",
    "\n",
    "    #遍历每一名学生的安置情况：\n",
    "    for i in range(len(vec)):\n",
    "        x = int(vec[i])\n",
    "\n",
    "        #从剩余槽中选择：\n",
    "        dorm = dorms[slots[x]]\n",
    "        #输出学生及其被分配的宿舍：\n",
    "        print prefs[i][0], dorm\n",
    "        #删除该槽\n",
    "        del slots[x]\n",
    "#成本函数\n",
    "def dormcost(vec):\n",
    "    cost = 0\n",
    "    #建立一个槽序列\n",
    "    slots = [0, 0, 1, 1, 2, 2, 3, 3, 4, 4]\n",
    "\n",
    "    #遍历每一名学生\n",
    "    for i in range(len(vec)):\n",
    "        x = int(vec[i])\n",
    "        dorm = dorms[slots[x]]\n",
    "        pref = prefs[i][1]\n",
    "        #首选成本为0，次选成本值为1\n",
    "        if pref[0] == dorm: cost = 0\n",
    "        elif pref[1] == dorm: cost += 1\n",
    "        else: cost += 3\n",
    "\n",
    "        del slots[x]\n",
    "\n",
    "#遗传算法\n",
    "def getneticoptimize(domain, costf, popsize = 20, step = 1,\n",
    "                     mutprob = 0.2, elite = 0.1, maxtier = 100):\n",
    "\n",
    "    #变异操作\n",
    "    def mutate(vec):\n",
    "        i = random.randint(0, len(domain)-1)\n",
    "        if random.random() < 0.5 and vec[i] > domain[i][0]:\n",
    "            return vec[0:i] + [vec[i] - step] + vec[i+1:]\n",
    "        elif vec[i] < domain[i][1]:\n",
    "            return vec[0:i] + [vec[i] + step] + vec[i+1:]\n",
    "    #交叉操作\n",
    "    def crossover(r1,r2):\n",
    "        i = random.randint(1, len(domain)-2)\n",
    "        return r1[0:i]+r2[i:]\n",
    "\n",
    "    #构造初始种群(随机生成50组解)\n",
    "    pop = []\n",
    "    for i in range(popsize):\n",
    "        vec = [random.randint(domain[i][0], domain[i][1])\n",
    "               for i in range(len(domain))]\n",
    "        pop.append(vec)\n",
    "\n",
    "    #每一代中有多少胜出者\n",
    "    topelite = int(elite * popsize)\n",
    "\n",
    "    #主循环\n",
    "    for i in range(maxtier):\n",
    "        scores = [(v,costf(v))for v in pop]\n",
    "        scores.sort()\n",
    "        ranked = [v for (v,s) in scores]\n",
    "\n",
    "        #从纯粹的胜出者开始\n",
    "        pop = ranked[0:topelite]\n",
    "\n",
    "        #添加变异和配对后的胜出者:\n",
    "        while len(pop) < popsize:\n",
    "            if random.random() < mutprob:\n",
    "                #变异\n",
    "                c = random.randint(0, topelite)\n",
    "                pop.append(mutate(ranked[c]))\n",
    "            else:\n",
    "                #交叉\n",
    "                c1 = random.randint(0, topelite)\n",
    "                c2 = random.randint(0, topelite)\n",
    "                pop.append(crossover(ranked[c1], ranked[c2]))\n",
    "\n",
    "        #打印最优解\n",
    "        print scores[0][0]\n",
    "\n",
    "    return scores[0][1]\n",
    "\n",
    "getneticoptimize(domain, dormcost)"
   ]
  },
  {
   "cell_type": "code",
   "execution_count": 3,
   "metadata": {},
   "outputs": [
    {
     "data": {
      "text/plain": [
       "[[6, 0, 5, 0, 4, 4, 3, 0, 1, 0],\n",
       " [7, 3, 0, 0, 1, 2, 0, 0, 0, 0],\n",
       " [9, 2, 1, 2, 0, 3, 1, 1, 0, 0],\n",
       " [8, 7, 4, 5, 0, 4, 0, 1, 0, 0],\n",
       " [5, 0, 4, 1, 1, 0, 0, 1, 0, 0],\n",
       " [3, 4, 2, 5, 0, 1, 1, 1, 0, 0],\n",
       " [3, 7, 0, 1, 4, 3, 1, 0, 1, 0],\n",
       " [0, 5, 0, 0, 1, 3, 2, 2, 0, 0],\n",
       " [3, 7, 1, 0, 4, 0, 2, 1, 1, 0],\n",
       " [7, 7, 6, 6, 0, 1, 1, 1, 1, 0]]"
      ]
     },
     "execution_count": 3,
     "metadata": {},
     "output_type": "execute_result"
    }
   ],
   "source": [
    "pop = []\n",
    "for i in range(10):\n",
    "    vec = [random.randint(domain[i][0], domain[i][1])\n",
    "            for i in range(len(domain))]\n",
    "    pop.append(vec)\n",
    "scores = [v for v in pop]\n",
    "scores"
   ]
  },
  {
   "cell_type": "code",
   "execution_count": null,
   "metadata": {
    "collapsed": true
   },
   "outputs": [],
   "source": []
  }
 ],
 "metadata": {
  "kernelspec": {
   "display_name": "Python 2",
   "language": "python",
   "name": "python2"
  },
  "language_info": {
   "codemirror_mode": {
    "name": "ipython",
    "version": 2
   },
   "file_extension": ".py",
   "mimetype": "text/x-python",
   "name": "python",
   "nbconvert_exporter": "python",
   "pygments_lexer": "ipython2",
   "version": "2.7.12"
  }
 },
 "nbformat": 4,
 "nbformat_minor": 2
}
